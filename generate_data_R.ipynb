{
 "cells": [
  {
   "cell_type": "code",
   "execution_count": 2,
   "metadata": {},
   "outputs": [],
   "source": [
    "from utils.data_utils import load_dataset, save_dataset\n",
    "from utils.functions import load_problem\n",
    "from utils import load_model"
   ]
  },
  {
   "cell_type": "code",
   "execution_count": 3,
   "metadata": {},
   "outputs": [],
   "source": [
    "problem = load_problem('tsp')"
   ]
  },
  {
   "cell_type": "code",
   "execution_count": 4,
   "metadata": {},
   "outputs": [
    {
     "name": "stdout",
     "output_type": "stream",
     "text": [
      "  [*] Loading model from pretrained_LCP/Reviser-6-FI/reviser_20/epoch-199.pt\n"
     ]
    }
   ],
   "source": [
    "reviser_path = 'pretrained_LCP/Reviser-6-FI/reviser_20/epoch-199.pt'\n",
    "reviser, _ = load_model(reviser_path, is_local=True, mtl=False)\n",
    "reviser.eval()\n",
    "reviser.set_decode_type(\"greedy\")"
   ]
  },
  {
   "cell_type": "code",
   "execution_count": 11,
   "metadata": {},
   "outputs": [],
   "source": [
    "dataset = reviser.problem.make_dataset(filename='data/FI_train_tsp/200_FI20_seed1235.pkl', num_samples=500000, offset=500000)"
   ]
  },
  {
   "cell_type": "code",
   "execution_count": 12,
   "metadata": {},
   "outputs": [],
   "source": [
    "from torch.utils.data import DataLoader\n",
    "dataloader = DataLoader(dataset, batch_size=500)"
   ]
  },
  {
   "cell_type": "code",
   "execution_count": 13,
   "metadata": {},
   "outputs": [
    {
     "name": "stderr",
     "output_type": "stream",
     "text": [
      "100%|██████████| 1000/1000 [04:44<00:00,  3.51it/s]\n"
     ]
    }
   ],
   "source": [
    "from tqdm import tqdm\n",
    "import torch\n",
    "from utils.functions import revision\n",
    "import copy\n",
    "\n",
    "original_subtour = torch.arange(20)\n",
    "\n",
    "get_cost_func = lambda input, pi: problem.get_costs(input, pi, return_local=True)\n",
    "\n",
    "# RG_dataset = []\n",
    "\n",
    "for batch in tqdm(dataloader):\n",
    "    decomposed_seeds = batch\n",
    "    # a = copy.deepcopy(decomposed_seeds[4])\n",
    "    decomposed_seeds = revision(get_cost_func, reviser, decomposed_seeds, original_subtour)\n",
    "    # print(decomposed_seeds[4]==a)\n",
    "    for instance in decomposed_seeds:\n",
    "        RG_dataset.append(instance)\n",
    "    # print(len(RG_dataset))\n"
   ]
  },
  {
   "cell_type": "code",
   "execution_count": 14,
   "metadata": {},
   "outputs": [
    {
     "data": {
      "text/plain": [
       "1000000"
      ]
     },
     "execution_count": 14,
     "metadata": {},
     "output_type": "execute_result"
    }
   ],
   "source": [
    "len(RG_dataset)"
   ]
  },
  {
   "cell_type": "code",
   "execution_count": 15,
   "metadata": {},
   "outputs": [
    {
     "data": {
      "text/plain": [
       "(tensor([1.0000, 0.2250]), tensor([0.0000, 0.6226]))"
      ]
     },
     "execution_count": 15,
     "metadata": {},
     "output_type": "execute_result"
    }
   ],
   "source": [
    "RG_dataset[0][0],RG_dataset[500000][0]"
   ]
  },
  {
   "cell_type": "code",
   "execution_count": 16,
   "metadata": {},
   "outputs": [],
   "source": [
    "new = torch.stack(RG_dataset)"
   ]
  },
  {
   "cell_type": "code",
   "execution_count": 19,
   "metadata": {},
   "outputs": [
    {
     "name": "stdout",
     "output_type": "stream",
     "text": [
      "torch.Size([1000000, 20, 2])\n"
     ]
    }
   ],
   "source": [
    "print(new.shape)"
   ]
  },
  {
   "cell_type": "code",
   "execution_count": 18,
   "metadata": {},
   "outputs": [],
   "source": [
    "torch.save(new, 'data/RG_train_tsp/RG20_seed1235.pt')"
   ]
  },
  {
   "cell_type": "code",
   "execution_count": 20,
   "metadata": {},
   "outputs": [],
   "source": [
    "a = torch.load('data/RG_train_tsp/RG20_seed1235.pt')"
   ]
  },
  {
   "cell_type": "code",
   "execution_count": 21,
   "metadata": {},
   "outputs": [
    {
     "data": {
      "text/plain": [
       "torch.Size([1000000, 20, 2])"
      ]
     },
     "execution_count": 21,
     "metadata": {},
     "output_type": "execute_result"
    }
   ],
   "source": [
    "a.shape"
   ]
  }
 ],
 "metadata": {
  "kernelspec": {
   "display_name": "Python 3.9.0 ('Attention')",
   "language": "python",
   "name": "python3"
  },
  "language_info": {
   "codemirror_mode": {
    "name": "ipython",
    "version": 3
   },
   "file_extension": ".py",
   "mimetype": "text/x-python",
   "name": "python",
   "nbconvert_exporter": "python",
   "pygments_lexer": "ipython3",
   "version": "3.9.0"
  },
  "orig_nbformat": 4,
  "vscode": {
   "interpreter": {
    "hash": "24ad11462de7308ca01150a2416426711c68202aa5a00e49b6cc6c1e480f6355"
   }
  }
 },
 "nbformat": 4,
 "nbformat_minor": 2
}
