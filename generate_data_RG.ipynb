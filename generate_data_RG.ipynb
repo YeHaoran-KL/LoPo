{
 "cells": [
  {
   "cell_type": "code",
   "execution_count": 1,
   "metadata": {},
   "outputs": [
    {
     "data": {
      "text/plain": [
       "<torch._C.Generator at 0x7f8f46fdac90>"
      ]
     },
     "execution_count": 1,
     "metadata": {},
     "output_type": "execute_result"
    }
   ],
   "source": [
    "from utils.data_utils import load_dataset, save_dataset\n",
    "from utils.functions import load_problem\n",
    "from utils import load_model\n",
    "import torch\n",
    "import numpy as np\n",
    "torch.manual_seed(1235)"
   ]
  },
  {
   "cell_type": "code",
   "execution_count": 2,
   "metadata": {},
   "outputs": [],
   "source": [
    "problem = load_problem('tsp')"
   ]
  },
  {
   "cell_type": "code",
   "execution_count": 3,
   "metadata": {},
   "outputs": [
    {
     "name": "stdout",
     "output_type": "stream",
     "text": [
      "  [*] Loading model from pretrained_LCP/constructions/Reviser-6-scale/reviser_100/epoch-400.pt\n"
     ]
    }
   ],
   "source": [
    "reviser_path = 'pretrained_LCP/constructions/Reviser-6-scale/reviser_100/epoch-400.pt'\n",
    "reviser, _ = load_model(reviser_path, is_local=True)\n",
    "reviser.eval()\n",
    "reviser.set_decode_type(\"greedy\")"
   ]
  },
  {
   "cell_type": "code",
   "execution_count": 4,
   "metadata": {},
   "outputs": [],
   "source": [
    "# dataset = reviser.problem.make_dataset(filename='data/FI_train_tsp/500_FI100_seed1235.pkl', num_samples=1000000, offset=0)"
   ]
  },
  {
   "cell_type": "code",
   "execution_count": 5,
   "metadata": {},
   "outputs": [],
   "source": [
    "# from torch.utils.data import DataLoader\n",
    "# dataloader = DataLoader(dataset, batch_size=500)"
   ]
  },
  {
   "cell_type": "code",
   "execution_count": 4,
   "metadata": {},
   "outputs": [],
   "source": [
    "def get_cost(seed):\n",
    "    ret = (seed[:, 1:] - seed[:, :-1]).norm(p=2, dim=2).sum(1) + (seed[:, 0] - seed[:, -1]).norm(p=2, dim=1)\n",
    "    return ret"
   ]
  },
  {
   "cell_type": "code",
   "execution_count": 5,
   "metadata": {},
   "outputs": [],
   "source": [
    "def coordinate_transform(decomposed_seeds):    \n",
    "    # coordinate transformation\n",
    "    max_x, indices_max_x = decomposed_seeds[:,:,0].max(dim=1)\n",
    "    max_y, indices_max_y = decomposed_seeds[:,:,1].max(dim=1)\n",
    "    min_x, indices_min_x = decomposed_seeds[:,:,0].min(dim=1)\n",
    "    min_y, indices_min_y = decomposed_seeds[:,:,1].min(dim=1)\n",
    "    # shapes: (batch_size, ); (batch_size, )\n",
    "    \n",
    "    diff_x = max_x - min_x\n",
    "    diff_y = max_y - min_y\n",
    "    xy_exchanged = diff_y > diff_x\n",
    "\n",
    "    # shift to zero\n",
    "    decomposed_seeds[:, :, 0] -= (min_x).unsqueeze(-1)\n",
    "    decomposed_seeds[:, :, 1] -= (min_y).unsqueeze(-1)\n",
    "\n",
    "    # exchange coordinates for those diff_y > diff_x\n",
    "    decomposed_seeds[xy_exchanged, :, 0], decomposed_seeds[xy_exchanged, :, 1] =  decomposed_seeds[xy_exchanged, :, 1], decomposed_seeds[xy_exchanged, :, 0]\n",
    "    \n",
    "    # scale to (0, 1)\n",
    "    scale_degree = torch.max(diff_x, diff_y)\n",
    "    scale_degree = scale_degree.view(decomposed_seeds.shape[0], 1, 1)\n",
    "    decomposed_seeds /= scale_degree\n",
    "\n",
    "    return decomposed_seeds\n",
    "    # transformation done\n"
   ]
  },
  {
   "cell_type": "code",
   "execution_count": 19,
   "metadata": {},
   "outputs": [
    {
     "name": "stdout",
     "output_type": "stream",
     "text": [
      "0\n"
     ]
    },
    {
     "name": "stderr",
     "output_type": "stream",
     "text": [
      " 50%|█████     | 1/2 [00:04<00:04,  4.69s/it]"
     ]
    },
    {
     "name": "stdout",
     "output_type": "stream",
     "text": [
      "cost: \n",
      " tensor([8.0100, 7.5835, 8.3188, 8.5279, 7.8863, 8.6557, 8.1934, 8.1496, 8.1163,\n",
      "        8.3623, 8.4628, 8.5061, 8.4174, 8.1139, 8.6118, 8.4492, 8.3801, 8.3723,\n",
      "        7.8638, 8.0336, 8.3236, 8.0206, 8.2394, 7.9712, 8.2338, 7.9494, 8.7341,\n",
      "        8.2023, 8.1134, 8.2805, 7.9651, 7.8200, 8.2485, 8.3910, 8.0188, 8.3378,\n",
      "        8.0699, 7.7854, 8.0582, 7.9837, 7.8247, 8.3284, 7.7672, 8.6375, 8.5738,\n",
      "        8.3216, 7.7873, 7.5742, 8.5264, 8.5613, 8.0100, 7.5835, 8.3188, 8.5279,\n",
      "        7.8863, 8.6557, 8.1934, 8.1496, 8.1163, 8.3623, 8.4628, 8.5061, 8.4174,\n",
      "        8.1139, 8.6118, 8.4492, 8.3801, 8.3723, 7.8638, 8.0336, 8.3236, 8.0206,\n",
      "        8.2394, 7.9712, 8.2338, 7.9494, 8.7341, 8.2023, 8.1134, 8.2805, 7.9651,\n",
      "        7.8200, 8.2485, 8.3910, 8.0188, 8.3378, 8.0699, 7.7854, 8.0582, 7.9837,\n",
      "        7.8247, 8.3284, 7.7672, 8.6375, 8.5738, 8.3216, 7.7873, 7.5742, 8.5264,\n",
      "        8.5613])\n"
     ]
    },
    {
     "name": "stderr",
     "output_type": "stream",
     "text": [
      "100%|██████████| 2/2 [00:09<00:00,  4.64s/it]"
     ]
    },
    {
     "name": "stdout",
     "output_type": "stream",
     "text": [
      "cost: \n",
      " tensor([8.4687, 8.2879, 7.7325, 8.0917, 8.1411, 8.3169, 7.6470, 8.3511, 9.0156,\n",
      "        8.3215, 8.0486, 8.2873, 8.2367, 8.2048, 8.1200, 8.4029, 8.5520, 8.6527,\n",
      "        8.2704, 8.3537, 8.2011, 8.6931, 8.5225, 8.3242, 8.0983, 8.0324, 8.7205,\n",
      "        8.5043, 7.8775, 8.3269, 7.4730, 7.9628, 8.2985, 8.4742, 8.6852, 8.1424,\n",
      "        8.0645, 8.5744, 8.4930, 8.1013, 7.6362, 8.2820, 8.0967, 8.1031, 7.8540,\n",
      "        8.1505, 8.3435, 8.1761, 7.5190, 8.0398, 8.4687, 8.2879, 7.7325, 8.0917,\n",
      "        8.1411, 8.3169, 7.6470, 8.3511, 9.0156, 8.3215, 8.0486, 8.2873, 8.2367,\n",
      "        8.2048, 8.1200, 8.4029, 8.5520, 8.6527, 8.2704, 8.3537, 8.2011, 8.6931,\n",
      "        8.5225, 8.3242, 8.0983, 8.0324, 8.7205, 8.5043, 7.8775, 8.3269, 7.4730,\n",
      "        7.9628, 8.2985, 8.4742, 8.6852, 8.1424, 8.0645, 8.5744, 8.4930, 8.1013,\n",
      "        7.6362, 8.2820, 8.0967, 8.1031, 7.8540, 8.1505, 8.3435, 8.1761, 7.5190,\n",
      "        8.0398])\n"
     ]
    },
    {
     "name": "stderr",
     "output_type": "stream",
     "text": [
      "\n"
     ]
    }
   ],
   "source": [
    "from tqdm import tqdm\n",
    "import torch\n",
    "from utils.functions import revision, decomposition\n",
    "import copy\n",
    "\n",
    "original_subtour = torch.arange(100)\n",
    "\n",
    "get_cost_func = lambda input, pi: problem.get_costs(input, pi, return_local=True)\n",
    "\n",
    "RG_dataset = []\n",
    "for dataset_id in range(1):\n",
    "    print(dataset_id)\n",
    "    \n",
    "    for batch in tqdm(range(2)): # 2000\n",
    "        seeds200 = torch.rand(size=(25, 200, 2))\n",
    "        seeds1000 = torch.rand(size=(5, 1000, 2))\n",
    "        offset = 0\n",
    "\n",
    "\n",
    "        decomposed_seeds, offset_seed = decomposition(\n",
    "                                    seeds200, \n",
    "                                    coordinate_dim=2,\n",
    "                                    revision_len=100,\n",
    "                                    offset = offset,\n",
    "                                    shift_len = 0\n",
    "                                    )\n",
    "        decomposed_seeds2, offset_seed = decomposition(\n",
    "                                seeds200, \n",
    "                                coordinate_dim=2,\n",
    "                                revision_len=100,\n",
    "                                offset = offset,\n",
    "                                shift_len = 0\n",
    "                                )\n",
    "        decomposed_seeds = torch.cat((decomposed_seeds, decomposed_seeds2), dim=0)\n",
    "\n",
    "        original_subtour = torch.arange(0, 100, dtype=torch.long)\n",
    "        for _ in range(10):\n",
    "            decomposed_seeds = revision(get_cost_func, reviser, decomposed_seeds, original_subtour)\n",
    "            decomposed_seeds, offset_seed = decomposition(\n",
    "                                decomposed_seeds, \n",
    "                                coordinate_dim=2,\n",
    "                                revision_len=100,\n",
    "                                offset = offset,\n",
    "                                shift_len = 10\n",
    "                                )\n",
    "\n",
    "        decomposed_seeds = coordinate_transform(decomposed_seeds)\n",
    "\n",
    "\n",
    "        print('cost: \\n', get_cost(decomposed_seeds))\n",
    "        RG_dataset.extend(decomposed_seeds.numpy().tolist())\n",
    "        # print(len(RG_dataset))\n",
    "\n",
    "    # save_dataset(RG_dataset, f'./data/RG/RG100_{dataset_id}.pkl')\n"
   ]
  },
  {
   "cell_type": "code",
   "execution_count": 18,
   "metadata": {},
   "outputs": [
    {
     "data": {
      "text/plain": [
       "<function matplotlib.pyplot.show(close=None, block=None)>"
      ]
     },
     "execution_count": 18,
     "metadata": {},
     "output_type": "execute_result"
    },
    {
     "data": {
      "image/png": "[encoded data removed]",
      "text/plain": [
       "<Figure size 432x288 with 1 Axes>"
      ]
     },
     "metadata": {
      "needs_background": "light"
     },
     "output_type": "display_data"
    }
   ],
   "source": [
    "import matplotlib.pyplot as plt\n",
    "import numpy as np\n",
    "a = 12\n",
    "plt.scatter(np.array(RG_dataset)[a, :, 0], np.array(RG_dataset)[a, :, 1])\n",
    "plt.show"
   ]
  },
  {
   "cell_type": "code",
   "execution_count": 33,
   "metadata": {},
   "outputs": [],
   "source": [
    "save_dataset(RG_dataset, './TEST.pkl')"
   ]
  },
  {
   "cell_type": "code",
   "execution_count": 23,
   "metadata": {},
   "outputs": [
    {
     "data": {
      "text/plain": [
       "[0.6815947890281677, 0.8329905271530151]"
      ]
     },
     "execution_count": 23,
     "metadata": {},
     "output_type": "execute_result"
    }
   ],
   "source": [
    "RG_dataset[0][0]"
   ]
  }
 ],
 "metadata": {
  "kernelspec": {
   "display_name": "Python 3.9.0 ('Attention')",
   "language": "python",
   "name": "python3"
  },
  "language_info": {
   "codemirror_mode": {
    "name": "ipython",
    "version": 3
   },
   "file_extension": ".py",
   "mimetype": "text/x-python",
   "name": "python",
   "nbconvert_exporter": "python",
   "pygments_lexer": "ipython3",
   "version": "3.9.0"
  },
  "orig_nbformat": 4,
  "vscode": {
   "interpreter": {
    "hash": "24ad11462de7308ca01150a2416426711c68202aa5a00e49b6cc6c1e480f6355"
   }
  }
 },
 "nbformat": 4,
 "nbformat_minor": 2
}
