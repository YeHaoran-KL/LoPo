{
 "cells": [
  {
   "cell_type": "code",
   "execution_count": 1,
   "metadata": {},
   "outputs": [],
   "source": [
    "from utils.data_utils import load_dataset, save_dataset\n",
    "from utils.functions import load_problem\n",
    "from utils import load_model"
   ]
  },
  {
   "cell_type": "code",
   "execution_count": 2,
   "metadata": {},
   "outputs": [],
   "source": [
    "problem = load_problem('tsp')"
   ]
  },
  {
   "cell_type": "code",
   "execution_count": 3,
   "metadata": {},
   "outputs": [
    {
     "name": "stdout",
     "output_type": "stream",
     "text": [
      "  [*] Loading model from pretrained_LCP/constructions/Reviser-6-FI/reviser_100/epoch-299.pt\n"
     ]
    }
   ],
   "source": [
    "reviser_path = 'pretrained_LCP/constructions/Reviser-6-FI/reviser_100/epoch-299.pt'\n",
    "reviser, _ = load_model(reviser_path, is_local=True)\n",
    "reviser.eval()\n",
    "reviser.set_decode_type(\"greedy\")"
   ]
  },
  {
   "cell_type": "code",
   "execution_count": 4,
   "metadata": {},
   "outputs": [],
   "source": [
    "dataset = reviser.problem.make_dataset(filename='data/FI_train_tsp/500_FI100_seed1235.pkl', num_samples=1000000, offset=0)"
   ]
  },
  {
   "cell_type": "code",
   "execution_count": 5,
   "metadata": {},
   "outputs": [],
   "source": [
    "from torch.utils.data import DataLoader\n",
    "dataloader = DataLoader(dataset, batch_size=500)"
   ]
  },
  {
   "cell_type": "code",
   "execution_count": 7,
   "metadata": {},
   "outputs": [
    {
     "name": "stderr",
     "output_type": "stream",
     "text": [
      "100%|██████████| 2000/2000 [30:34<00:00,  1.09it/s]\n"
     ]
    }
   ],
   "source": [
    "from tqdm import tqdm\n",
    "import torch\n",
    "from utils.functions import revision\n",
    "import copy\n",
    "\n",
    "original_subtour = torch.arange(100)\n",
    "\n",
    "get_cost_func = lambda input, pi: problem.get_costs(input, pi, return_local=True)\n",
    "\n",
    "RG_dataset = []\n",
    "\n",
    "for batch in tqdm(dataloader):\n",
    "    decomposed_seeds = batch\n",
    "    # a = copy.deepcopy(decomposed_seeds[4])\n",
    "    decomposed_seeds = revision(get_cost_func, reviser, decomposed_seeds, original_subtour)\n",
    "    # print(decomposed_seeds[4]==a)\n",
    "    for instance in decomposed_seeds:\n",
    "        RG_dataset.append(instance)\n",
    "    # print(len(RG_dataset))\n"
   ]
  },
  {
   "cell_type": "code",
   "execution_count": 8,
   "metadata": {},
   "outputs": [
    {
     "data": {
      "text/plain": [
       "1000000"
      ]
     },
     "execution_count": 8,
     "metadata": {},
     "output_type": "execute_result"
    }
   ],
   "source": [
    "len(RG_dataset)"
   ]
  },
  {
   "cell_type": "code",
   "execution_count": 9,
   "metadata": {},
   "outputs": [
    {
     "data": {
      "text/plain": [
       "(tensor([0.0000, 0.0020]), tensor([0.9786, 0.7087]))"
      ]
     },
     "execution_count": 9,
     "metadata": {},
     "output_type": "execute_result"
    }
   ],
   "source": [
    "RG_dataset[0][0],RG_dataset[500000][0]"
   ]
  },
  {
   "cell_type": "code",
   "execution_count": 10,
   "metadata": {},
   "outputs": [],
   "source": [
    "new = torch.stack(RG_dataset)"
   ]
  },
  {
   "cell_type": "code",
   "execution_count": 11,
   "metadata": {},
   "outputs": [
    {
     "name": "stdout",
     "output_type": "stream",
     "text": [
      "torch.Size([1000000, 50, 2])\n"
     ]
    }
   ],
   "source": [
    "print(new.shape)"
   ]
  },
  {
   "cell_type": "code",
   "execution_count": 12,
   "metadata": {},
   "outputs": [],
   "source": [
    "torch.save(new, 'data/RG_train_tsp/RG100_seed1235.pt')"
   ]
  },
  {
   "cell_type": "code",
   "execution_count": 15,
   "metadata": {},
   "outputs": [],
   "source": [
    "a = torch.load('data/RG_train_tsp/RG100_seed1235.pt')"
   ]
  },
  {
   "cell_type": "code",
   "execution_count": 16,
   "metadata": {},
   "outputs": [
    {
     "data": {
      "text/plain": [
       "torch.Size([1000000, 50, 2])"
      ]
     },
     "execution_count": 16,
     "metadata": {},
     "output_type": "execute_result"
    }
   ],
   "source": [
    "a.shape"
   ]
  }
 ],
 "metadata": {
  "kernelspec": {
   "display_name": "Python 3.9.0 ('Attention')",
   "language": "python",
   "name": "python3"
  },
  "language_info": {
   "codemirror_mode": {
    "name": "ipython",
    "version": 3
   },
   "file_extension": ".py",
   "mimetype": "text/x-python",
   "name": "python",
   "nbconvert_exporter": "python",
   "pygments_lexer": "ipython3",
   "version": "3.9.0"
  },
  "orig_nbformat": 4,
  "vscode": {
   "interpreter": {
    "hash": "24ad11462de7308ca01150a2416426711c68202aa5a00e49b6cc6c1e480f6355"
   }
  }
 },
 "nbformat": 4,
 "nbformat_minor": 2
}
