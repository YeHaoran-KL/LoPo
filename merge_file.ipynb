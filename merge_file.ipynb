{
 "cells": [
  {
   "cell_type": "code",
   "execution_count": 1,
   "metadata": {},
   "outputs": [],
   "source": [
    "import torch\n",
    "path0 = r'data\\FI_train_tsp\\500_FI20_seed1235_0.pt'\n",
    "path1 = r'data\\FI_train_tsp\\500_FI20_seed1235_1.pt'\n",
    "path2 = r'data\\FI_train_tsp\\500_FI20_seed1235_2.pt'\n",
    "path3 = r'data\\FI_train_tsp\\500_FI20_seed1235_3.pt'\n",
    "path4 = r'data\\FI_train_tsp\\500_FI20_seed1235_4.pt'"
   ]
  },
  {
   "cell_type": "code",
   "execution_count": 3,
   "metadata": {},
   "outputs": [],
   "source": [
    "f0 = torch.load(path0)\n",
    "f1 = torch.load(path1)\n",
    "f2 = torch.load(path2)\n",
    "f3 = torch.load(path3)\n",
    "f4 = torch.load(path4)\n",
    "torch.save(torch.cat((f0,f1,f2,f3,f4), dim=0), r'data\\FI_train_tsp\\500_FI20_seed1235.pt')\n"
   ]
  },
  {
   "cell_type": "code",
   "execution_count": 4,
   "metadata": {},
   "outputs": [
    {
     "data": {
      "text/plain": [
       "torch.Size([1000000, 100, 2])"
      ]
     },
     "execution_count": 4,
     "metadata": {},
     "output_type": "execute_result"
    }
   ],
   "source": [
    "a = torch.load(r'data\\FI_train_tsp\\500_FI20_seed1235.pt')\n",
    "a.shape"
   ]
  },
  {
   "cell_type": "code",
   "execution_count": 6,
   "metadata": {},
   "outputs": [
    {
     "data": {
      "text/plain": [
       "(200000, 100, 2)"
      ]
     },
     "execution_count": 6,
     "metadata": {},
     "output_type": "execute_result"
    }
   ],
   "source": [
    "len(set0), len(set0[0]), len(set0[0][0])"
   ]
  },
  {
   "cell_type": "code",
   "execution_count": 3,
   "metadata": {},
   "outputs": [],
   "source": [
    "path1 = 'data/FI_train_tsp/500_FI20_seed1235_1.pkl'\n",
    "set1 = load_dataset(path1)"
   ]
  },
  {
   "cell_type": "code",
   "execution_count": 4,
   "metadata": {},
   "outputs": [],
   "source": [
    "path2 = 'data/FI_train_tsp/500_FI20_seed1235_2.pkl'\n",
    "set2 = load_dataset(path2)"
   ]
  },
  {
   "cell_type": "code",
   "execution_count": 5,
   "metadata": {},
   "outputs": [],
   "source": [
    "path3 = 'data/FI_train_tsp/500_FI20_seed1235_3.pkl'\n",
    "set3 = load_dataset(path3)"
   ]
  },
  {
   "cell_type": "code",
   "execution_count": 6,
   "metadata": {},
   "outputs": [
    {
     "ename": "",
     "evalue": "",
     "output_type": "error",
     "traceback": [
      "\u001b[1;31mCanceled future for execute_request message before replies were done"
     ]
    },
    {
     "ename": "",
     "evalue": "",
     "output_type": "error",
     "traceback": [
      "\u001b[1;31mThe Kernel crashed while executing code in the the current cell or a previous cell. Please review the code in the cell(s) to identify a possible cause of the failure. Click <a href='https://aka.ms/vscodeJupyterKernelCrash'>here</a> for more info. View Jupyter <a href='command:jupyter.viewOutput'>log</a> for further details."
     ]
    }
   ],
   "source": [
    "path4 = 'data/FI_train_tsp/500_FI20_seed1235_4.pkl'\n",
    "set4 = load_dataset(path4)"
   ]
  },
  {
   "cell_type": "code",
   "execution_count": null,
   "metadata": {},
   "outputs": [],
   "source": [
    "final = []\n",
    "final.extend(set0)\n",
    "final.extend(set1)\n",
    "final.extend(set2)\n",
    "final.extend(set3)\n",
    "final.extend(set4)\n"
   ]
  },
  {
   "cell_type": "code",
   "execution_count": null,
   "metadata": {},
   "outputs": [],
   "source": [
    "len(final), len(final[0]), len(final[0][0])"
   ]
  }
 ],
 "metadata": {
  "kernelspec": {
   "display_name": "Python 3.9.7 ('base')",
   "language": "python",
   "name": "python3"
  },
  "language_info": {
   "codemirror_mode": {
    "name": "ipython",
    "version": 3
   },
   "file_extension": ".py",
   "mimetype": "text/x-python",
   "name": "python",
   "nbconvert_exporter": "python",
   "pygments_lexer": "ipython3",
   "version": "3.9.7"
  },
  "orig_nbformat": 4,
  "vscode": {
   "interpreter": {
    "hash": "88279d2366fe020547cde40dd65aa0e3aa662a6ec1f3ca12d88834876c85e1a6"
   }
  }
 },
 "nbformat": 4,
 "nbformat_minor": 2
}
